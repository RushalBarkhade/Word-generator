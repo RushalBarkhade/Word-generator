{
 "cells": [
  {
   "cell_type": "code",
   "execution_count": 30,
   "metadata": {},
   "outputs": [],
   "source": [
    "from keras.models import Sequential\n",
    "from keras.layers import LSTM,Dense,Dropout\n",
    "from keras.layers import Activation\n",
    "import numpy as np\n",
    "import string\n",
    "import sys"
   ]
  },
  {
   "cell_type": "code",
   "execution_count": 2,
   "metadata": {
    "collapsed": true
   },
   "outputs": [],
   "source": [
    "PATH = \"text file\\\\alice.txt\""
   ]
  },
  {
   "cell_type": "code",
   "execution_count": 3,
   "metadata": {
    "collapsed": true
   },
   "outputs": [],
   "source": [
    "text = open(PATH,'r').read().lower()"
   ]
  },
  {
   "cell_type": "code",
   "execution_count": 4,
   "metadata": {},
   "outputs": [],
   "source": [
    "chars = set(text)\n",
    "words = set(open(PATH).read().lower().split())"
   ]
  },
  {
   "cell_type": "code",
   "execution_count": 5,
   "metadata": {},
   "outputs": [
    {
     "name": "stdout",
     "output_type": "stream",
     "text": [
      "Total number of unique words: 5582\n",
      "Total number of unique character: 60\n"
     ]
    }
   ],
   "source": [
    "print(\"Total number of unique words:\",len(words))\n",
    "print(\"Total number of unique character:\",len(chars))"
   ]
  },
  {
   "cell_type": "code",
   "execution_count": 6,
   "metadata": {},
   "outputs": [],
   "source": [
    "word_indices = dict((c,i) for i,c,in enumerate(words))\n",
    "indices_word = dict((i,c) for i,c in enumerate(words))"
   ]
  },
  {
   "cell_type": "code",
   "execution_count": 7,
   "metadata": {},
   "outputs": [
    {
     "name": "stdout",
     "output_type": "stream",
     "text": [
      "Length of word_indices: 5582\n",
      "Length of indices_word: 5582\n"
     ]
    }
   ],
   "source": [
    "print(\"Length of word_indices:\",len(word_indices))\n",
    "print(\"Length of indices_word:\",len(indices_word))"
   ]
  },
  {
   "cell_type": "code",
   "execution_count": 8,
   "metadata": {},
   "outputs": [
    {
     "name": "stdout",
     "output_type": "stream",
     "text": [
      "maxlen: 30 step: 3\n"
     ]
    }
   ],
   "source": [
    "maxlen = 30\n",
    "step = 3\n",
    "print(\"maxlen:\",maxlen,\"step:\", step)"
   ]
  },
  {
   "cell_type": "code",
   "execution_count": 9,
   "metadata": {
    "collapsed": true
   },
   "outputs": [],
   "source": [
    "sentences = []\n",
    "next_words = []\n",
    "list_words = text.lower().split()"
   ]
  },
  {
   "cell_type": "code",
   "execution_count": 10,
   "metadata": {},
   "outputs": [],
   "source": [
    "for i in range(0,len(list_words)-maxlen,step):\n",
    "    sent = \" \".join(list_words[i:i+maxlen])\n",
    "    next_word = list_words[i+maxlen]\n",
    "    #print(next_word)\n",
    "    sentences.append(sent)\n",
    "    next_words.append(next_word)"
   ]
  },
  {
   "cell_type": "code",
   "execution_count": 11,
   "metadata": {},
   "outputs": [
    {
     "name": "stdout",
     "output_type": "stream",
     "text": [
      "Sentences: 9812\n",
      "Next_words: 9812\n"
     ]
    }
   ],
   "source": [
    "print(\"Sentences:\",len(sentences))\n",
    "print(\"Next_words:\",len(next_words))"
   ]
  },
  {
   "cell_type": "code",
   "execution_count": 12,
   "metadata": {},
   "outputs": [],
   "source": [
    "x = np.zeros((len(sentences),maxlen,len(words)),dtype=np.bool)\n",
    "y = np.zeros((len(sentences),len(words)),dtype=np.bool)"
   ]
  },
  {
   "cell_type": "code",
   "execution_count": 13,
   "metadata": {},
   "outputs": [],
   "source": [
    "for i,sentence in enumerate(sentences):\n",
    "    for j,word in enumerate(sentence.split()):\n",
    "        x[i,j,word_indices[word]] = 1\n",
    "    y[i,word_indices[next_words[i]]] = 1"
   ]
  },
  {
   "cell_type": "code",
   "execution_count": 21,
   "metadata": {},
   "outputs": [],
   "source": [
    "model = Sequential()\n",
    "model.add(LSTM(128,input_shape=(maxlen,(len(words)))))\n",
    "model.add(Dropout(0.2))\n",
    "model.add(Dense(len(words)))\n",
    "model.add(Activation(\"softmax\"))"
   ]
  },
  {
   "cell_type": "code",
   "execution_count": 22,
   "metadata": {
    "collapsed": true
   },
   "outputs": [],
   "source": [
    "model.compile(loss=\"categorical_crossentropy\",optimizer=\"rmsprop\")"
   ]
  },
  {
   "cell_type": "code",
   "execution_count": null,
   "metadata": {},
   "outputs": [
    {
     "name": "stdout",
     "output_type": "stream",
     "text": [
      "\n",
      "--------------------------------------------------\n",
      "Iteration 0\n",
      "Epoch 1/5\n",
      "9812/9812 [==============================] - 290s 30ms/step - loss: 7.1129\n",
      "Epoch 2/5\n",
      "9812/9812 [==============================] - 239s 24ms/step - loss: 6.6388\n",
      "Epoch 3/5\n",
      "9812/9812 [==============================] - 228s 23ms/step - loss: 6.5564\n",
      "Epoch 4/5\n",
      "9812/9812 [==============================] - 227s 23ms/step - loss: 6.5033\n",
      "Epoch 5/5\n",
      "9812/9812 [==============================] - 227s 23ms/step - loss: 6.4544\n",
      "----- Generating with seed: \" ['this', 'time', 'she', 'had', 'found', 'her', 'way', 'into', 'a', 'tidy', 'little', 'room', 'with', 'a', 'table', 'in', 'the', 'window,', 'and', 'on', 'it', '(as', 'she', 'had', 'hoped)', 'a', 'fan', 'and', 'two', 'or'] \"\n",
      "\n",
      "this time she had found her way into a tidy little room with a table in the window, and on it (as she had hoped) a fan and two or\n",
      " the the the the the the the the the the\n",
      "--------------------------------------------------\n",
      "Iteration 1\n",
      "Epoch 1/5\n",
      "9812/9812 [==============================] - 226s 23ms/step - loss: 6.4098\n",
      "Epoch 2/5\n",
      "9812/9812 [==============================] - 227s 23ms/step - loss: 6.3574\n",
      "Epoch 3/5\n",
      "9812/9812 [==============================] - 226s 23ms/step - loss: 6.2993\n",
      "Epoch 4/5\n",
      "9812/9812 [==============================] - 226s 23ms/step - loss: 6.2231\n",
      "Epoch 5/5\n",
      "9812/9812 [==============================] - 226s 23ms/step - loss: 6.1557\n",
      "----- Generating with seed: \" ['odd', 'the', 'directions', 'will', 'look!', 'alice’s', 'right', 'foot,', 'esq.', 'hearthrug,', 'near', 'the', 'fender,', '(with', 'alice’s', 'love).', 'oh', 'dear,', 'what', 'nonsense', 'i’m', 'talking!’', 'just', 'then', 'her', 'head', 'struck', 'against', 'the', 'roof'] \"\n",
      "\n",
      "odd the directions will look! alice’s right foot, esq. hearthrug, near the fender, (with alice’s love). oh dear, what nonsense i’m talking!’ just then her head struck against the roof\n",
      " of of and and and and and and and of\n",
      "--------------------------------------------------\n",
      "Iteration 2\n",
      "Epoch 1/5\n",
      "9812/9812 [==============================] - 225s 23ms/step - loss: 6.0634\n",
      "Epoch 2/5\n",
      "9812/9812 [==============================] - 227s 23ms/step - loss: 5.9897\n",
      "Epoch 3/5\n",
      "9812/9812 [==============================] - 228s 23ms/step - loss: 5.9104\n",
      "Epoch 4/5\n",
      "9812/9812 [==============================] - 228s 23ms/step - loss: 5.8330\n",
      "Epoch 5/5\n",
      "9812/9812 [==============================] - 229s 23ms/step - loss: 5.7586\n",
      "----- Generating with seed: \" ['himself', 'as', 'he', 'came,', '‘oh!', 'the', 'duchess,', 'the', 'duchess!', 'oh!', 'won’t', 'she', 'be', 'savage', 'if', 'i’ve', 'kept', 'her', 'waiting!’', 'alice', 'felt', 'so', 'desperate', 'that', 'she', 'was', 'ready', 'to', 'ask', 'help'] \"\n",
      "\n",
      "himself as he came, ‘oh! the duchess, the duchess! oh! won’t she be savage if i’ve kept her waiting!’ alice felt so desperate that she was ready to ask help\n",
      " she she she she was she was was was of\n",
      "--------------------------------------------------\n",
      "Iteration 3\n",
      "Epoch 1/5\n",
      "9812/9812 [==============================] - 229s 23ms/step - loss: 5.6781\n",
      "Epoch 2/5\n",
      "9812/9812 [==============================] - 226s 23ms/step - loss: 5.6022\n",
      "Epoch 3/5\n",
      "9812/9812 [==============================] - 227s 23ms/step - loss: 5.5266\n",
      "Epoch 4/5\n",
      "9812/9812 [==============================] - 228s 23ms/step - loss: 5.4517\n",
      "Epoch 5/5\n",
      "9812/9812 [==============================] - 228s 23ms/step - loss: 5.3798\n",
      "----- Generating with seed: \" ['alice', 'took', 'up', 'the', 'fan', 'and', 'gloves,', 'and,', 'as', 'the', 'hall', 'was', 'very', 'hot,', 'she', 'kept', 'fanning', 'herself', 'all', 'the', 'time', 'she', 'went', 'on', 'talking:', '‘dear,', 'dear!', 'how', 'queer', 'everything'] \"\n",
      "\n",
      "alice took up the fan and gloves, and, as the hall was very hot, she kept fanning herself all the time she went on talking: ‘dear, dear! how queer everything\n",
      " of of but ‘i ‘i of of alice a mock\n",
      "--------------------------------------------------\n",
      "Iteration 4\n",
      "Epoch 1/5\n",
      "9812/9812 [==============================] - 228s 23ms/step - loss: 5.3048\n",
      "Epoch 2/5\n",
      "9812/9812 [==============================] - 226s 23ms/step - loss: 5.2076\n",
      "Epoch 3/5\n",
      "9812/9812 [==============================] - 226s 23ms/step - loss: 5.1320\n",
      "Epoch 4/5\n",
      "9812/9812 [==============================] - 226s 23ms/step - loss: 5.0704\n",
      "Epoch 5/5\n",
      "9812/9812 [==============================] - 226s 23ms/step - loss: 4.9843\n",
      "----- Generating with seed: \" ['saying', 'anything', 'more', 'till', 'the', 'pigeon', 'had', 'finished.', '‘as', 'if', 'it', 'wasn’t', 'trouble', 'enough', 'hatching', 'the', 'eggs,’', 'said', 'the', 'pigeon;', '‘but', 'i', 'must', 'be', 'on', 'the', 'look-out', 'for', 'serpents', 'night'] \"\n",
      "\n",
      "saying anything more till the pigeon had finished. ‘as if it wasn’t trouble enough hatching the eggs,’ said the pigeon; ‘but i must be on the look-out for serpents night\n",
      " * * * * * * * * * *\n",
      "--------------------------------------------------\n",
      "Iteration 5\n",
      "Epoch 1/5\n",
      "9812/9812 [==============================] - 226s 23ms/step - loss: 4.9044\n",
      "Epoch 2/5\n",
      "9812/9812 [==============================] - 225s 23ms/step - loss: 4.8211\n",
      "Epoch 3/5\n",
      "9812/9812 [==============================] - 225s 23ms/step - loss: 4.7553\n",
      "Epoch 4/5\n",
      "9812/9812 [==============================] - 226s 23ms/step - loss: 4.6748\n",
      "Epoch 5/5\n",
      "9812/9812 [==============================] - 226s 23ms/step - loss: 4.6026\n",
      "----- Generating with seed: \" ['to', 'date', 'contact', 'information', 'can', 'be', 'found', 'at', 'the', 'foundation’s', 'web', 'site', 'and', 'official', 'page', 'at', 'http://pglaf.org', 'for', 'additional', 'contact', 'information:', 'dr.', 'gregory', 'b.', 'newby', 'chief', 'executive', 'and', 'director', 'gbnewby@pglaf.org'] \"\n",
      "\n",
      "to date contact information can be found at the foundation’s web site and official page at http://pglaf.org for additional contact information: dr. gregory b. newby chief executive and director gbnewby@pglaf.org\n",
      " volunteers volunteers project project project project project project gutenberg-tm gutenberg-tm\n",
      "--------------------------------------------------\n",
      "Iteration 6\n",
      "Epoch 1/5\n",
      "9812/9812 [==============================] - 227s 23ms/step - loss: 4.5144\n",
      "Epoch 2/5\n",
      "9812/9812 [==============================] - 226s 23ms/step - loss: 4.4523\n",
      "Epoch 3/5\n",
      "9812/9812 [==============================] - 227s 23ms/step - loss: 4.3822\n",
      "Epoch 4/5\n",
      "9812/9812 [==============================] - 227s 23ms/step - loss: 4.3152\n",
      "Epoch 5/5\n",
      "9812/9812 [==============================] - 228s 23ms/step - loss: 4.2431\n",
      "----- Generating with seed: \" ['the', 'youth,', '‘as', 'i', 'mentioned', 'before,', 'and', 'have', 'grown', 'most', 'uncommonly', 'fat;', 'yet', 'you', 'turned', 'a', 'back-somersault', 'in', 'at', 'the', 'door--', 'pray,', 'what', 'is', 'the', 'reason', 'of', 'that?’', '‘in', 'my'] \"\n",
      "\n",
      "the youth, ‘as i mentioned before, and have grown most uncommonly fat; yet you turned a back-somersault in at the door-- pray, what is the reason of that?’ ‘in my\n",
      " about said the alice he he he he he his\n",
      "--------------------------------------------------\n",
      "Iteration 7\n",
      "Epoch 1/5\n",
      "9812/9812 [==============================] - 227s 23ms/step - loss: 4.1640\n",
      "Epoch 2/5\n",
      "9812/9812 [==============================] - 227s 23ms/step - loss: 4.0956\n",
      "Epoch 3/5\n",
      "9812/9812 [==============================] - 226s 23ms/step - loss: 4.0167\n",
      "Epoch 4/5\n",
      "9812/9812 [==============================] - 226s 23ms/step - loss: 3.9524\n",
      "Epoch 5/5\n",
      "9812/9812 [==============================] - 226s 23ms/step - loss: 3.8894\n",
      "----- Generating with seed: \" ['you', 'know', 'what', '“it”', 'means.’', '‘i', 'know', 'what', '“it”', 'means', 'well', 'enough,', 'when', 'i', 'find', 'a', 'thing,’', 'said', 'the', 'duck:', '‘it’s', 'generally', 'a', 'frog', 'or', 'a', 'worm.', 'the', 'question', 'is,'] \"\n",
      "\n",
      "you know what “it” means.’ ‘i know what “it” means well enough, when i find a thing,’ said the duck: ‘it’s generally a frog or a worm. the question is,\n",
      " could the the the the you you you you you\n",
      "--------------------------------------------------\n",
      "Iteration 8\n",
      "Epoch 1/5\n",
      "9812/9812 [==============================] - 225s 23ms/step - loss: 3.8282\n",
      "Epoch 2/5\n",
      "9812/9812 [==============================] - 228s 23ms/step - loss: 3.7542\n",
      "Epoch 3/5\n"
     ]
    },
    {
     "name": "stdout",
     "output_type": "stream",
     "text": [
      "9812/9812 [==============================] - 227s 23ms/step - loss: 3.6989\n",
      "Epoch 4/5\n",
      "9812/9812 [==============================] - 227s 23ms/step - loss: 3.6352\n",
      "Epoch 5/5\n",
      "9812/9812 [==============================] - 226s 23ms/step - loss: 3.5706\n",
      "----- Generating with seed: \" ['providing', 'access', 'to', 'or', 'distributing', 'project', 'gutenberg-tm', 'electronic', 'works', 'provided', 'that', '-', 'you', 'pay', 'a', 'royalty', 'fee', 'of', '20%', 'of', 'the', 'gross', 'profits', 'you', 'derive', 'from', 'the', 'use', 'of', 'project'] \"\n",
      "\n",
      "providing access to or distributing project gutenberg-tm electronic works provided that - you pay a royalty fee of 20% of the gross profits you derive from the use of project\n",
      " of works the the the of an slowly nonsense!’ alone!’\n",
      "--------------------------------------------------\n",
      "Iteration 9\n",
      "Epoch 1/5\n",
      "9812/9812 [==============================] - 226s 23ms/step - loss: 3.5177\n",
      "Epoch 2/5\n",
      "9812/9812 [==============================] - 226s 23ms/step - loss: 3.4448\n",
      "Epoch 3/5\n",
      "9812/9812 [==============================] - 228s 23ms/step - loss: 3.3918\n",
      "Epoch 4/5\n",
      "9812/9812 [==============================] - 226s 23ms/step - loss: 3.3273\n",
      "Epoch 5/5\n",
      "9812/9812 [==============================] - 226s 23ms/step - loss: 3.2824\n",
      "----- Generating with seed: \" ['splashing', 'about', 'in', 'the', 'pool', 'a', 'little', 'way', 'off,', 'and', 'she', 'swam', 'nearer', 'to', 'make', 'out', 'what', 'it', 'was:', 'at', 'first', 'she', 'thought', 'it', 'must', 'be', 'a', 'walrus', 'or', 'hippopotamus,'] \"\n",
      "\n",
      "splashing about in the pool a little way off, and she swam nearer to make out what it was: at first she thought it must be a walrus or hippopotamus,\n",
      " it she she she she one small now began got\n",
      "--------------------------------------------------\n",
      "Iteration 10\n",
      "Epoch 1/5\n",
      "9812/9812 [==============================] - 227s 23ms/step - loss: 3.2351\n",
      "Epoch 2/5\n",
      "9812/9812 [==============================] - 227s 23ms/step - loss: 3.1740\n",
      "Epoch 3/5\n",
      "9812/9812 [==============================] - 227s 23ms/step - loss: 3.1187\n",
      "Epoch 4/5\n",
      "9812/9812 [==============================] - 226s 23ms/step - loss: 3.0775\n",
      "Epoch 5/5\n",
      "9812/9812 [==============================] - 225s 23ms/step - loss: 3.0259\n",
      "----- Generating with seed: \" ['to', 'your', 'places!’', 'shouted', 'the', 'queen', 'in', 'a', 'voice', 'of', 'thunder,', 'and', 'people', 'began', 'running', 'about', 'in', 'all', 'directions,', 'tumbling', 'up', 'against', 'each', 'other;', 'however,', 'they', 'got', 'settled', 'down', 'in'] \"\n",
      "\n",
      "to your places!’ shouted the queen in a voice of thunder, and people began running about in all directions, tumbling up against each other; however, they got settled down in\n",
      " back got got a a so down other, she over\n",
      "--------------------------------------------------\n",
      "Iteration 11\n",
      "Epoch 1/5\n",
      "9812/9812 [==============================] - 226s 23ms/step - loss: 2.9864\n",
      "Epoch 2/5\n",
      "9812/9812 [==============================] - 226s 23ms/step - loss: 2.9239\n",
      "Epoch 3/5\n",
      "9812/9812 [==============================] - 225s 23ms/step - loss: 2.8821\n",
      "Epoch 4/5\n",
      "9812/9812 [==============================] - 226s 23ms/step - loss: 2.8371\n",
      "Epoch 5/5\n",
      "9812/9812 [==============================] - 225s 23ms/step - loss: 2.7838\n",
      "----- Generating with seed: \" ['right', 'into', 'a', 'large', 'kitchen,', 'which', 'was', 'full', 'of', 'smoke', 'from', 'one', 'end', 'to', 'the', 'other:', 'the', 'duchess', 'was', 'sitting', 'on', 'a', 'three-legged', 'stool', 'in', 'the', 'middle,', 'nursing', 'a', 'baby;'] \"\n",
      "\n",
      "right into a large kitchen, which was full of smoke from one end to the other: the duchess was sitting on a three-legged stool in the middle, nursing a baby;\n",
      " was was was was to the a a a little\n",
      "--------------------------------------------------\n",
      "Iteration 12\n",
      "Epoch 1/5\n",
      "9812/9812 [==============================] - 226s 23ms/step - loss: 2.7495\n",
      "Epoch 2/5\n",
      "9812/9812 [==============================] - 226s 23ms/step - loss: 2.6980\n",
      "Epoch 3/5\n",
      "9812/9812 [==============================] - 225s 23ms/step - loss: 2.6516\n",
      "Epoch 4/5\n",
      "9812/9812 [==============================] - 228s 23ms/step - loss: 2.6074\n",
      "Epoch 5/5\n",
      "9812/9812 [==============================] - 465s 47ms/step - loss: 2.5811\n",
      "----- Generating with seed: \" ['left', 'off', 'staring', 'at', 'the', 'hatter,', 'and,', 'just', 'as', 'the', 'dormouse', 'crossed', 'the', 'court,', 'she', 'said', 'to', 'one', 'of', 'the', 'officers', 'of', 'the', 'court,', '‘bring', 'me', 'the', 'list', 'of', 'the'] \"\n",
      "\n",
      "left off staring at the hatter, and, just as the dormouse crossed the court, she said to one of the officers of the court, ‘bring me the list of the\n",
      " the the of on on the on on on on\n",
      "--------------------------------------------------\n",
      "Iteration 13\n",
      "Epoch 1/5\n",
      "9812/9812 [==============================] - 618s 63ms/step - loss: 2.5411\n",
      "Epoch 2/5\n",
      "9812/9812 [==============================] - 582s 59ms/step - loss: 2.4919\n",
      "Epoch 3/5\n",
      "9812/9812 [==============================] - 423s 43ms/step - loss: 2.4617\n",
      "Epoch 4/5\n",
      "9812/9812 [==============================] - 548s 56ms/step - loss: 2.4260\n",
      "Epoch 5/5\n",
      "9812/9812 [==============================] - 304s 31ms/step - loss: 2.3960\n",
      "----- Generating with seed: \" ['taken', 'the', 'highest', 'tree', 'in', 'the', 'wood,’', 'continued', 'the', 'pigeon,', 'raising', 'its', 'voice', 'to', 'a', 'shriek,', '‘and', 'just', 'as', 'i', 'was', 'thinking', 'i', 'should', 'be', 'free', 'of', 'them', 'at', 'last,'] \"\n",
      "\n",
      "taken the highest tree in the wood,’ continued the pigeon, raising its voice to a shriek, ‘and just as i was thinking i should be free of them at last,\n",
      " they they they come from from from i’m ‘what i’m\n",
      "--------------------------------------------------\n",
      "Iteration 14\n",
      "Epoch 1/5\n",
      "9812/9812 [==============================] - 270s 27ms/step - loss: 2.3620\n",
      "Epoch 2/5\n",
      "9812/9812 [==============================] - 321s 33ms/step - loss: 2.3176\n",
      "Epoch 3/5\n",
      "9812/9812 [==============================] - 338s 34ms/step - loss: 2.2882\n",
      "Epoch 4/5\n",
      "9812/9812 [==============================] - 291s 30ms/step - loss: 2.2684\n",
      "Epoch 5/5\n",
      "9812/9812 [==============================] - 242s 25ms/step - loss: 2.2316\n",
      "----- Generating with seed: \" ['and', 'in', 'she', 'went.', 'once', 'more', 'she', 'found', 'herself', 'in', 'the', 'long', 'hall,', 'and', 'close', 'to', 'the', 'little', 'glass', 'table.', '‘now,', 'i’ll', 'manage', 'better', 'this', 'time,’', 'she', 'said', 'to', 'herself,'] \"\n",
      "\n",
      "and in she went. once more she found herself in the long hall, and close to the little glass table. ‘now, i’ll manage better this time,’ she said to herself,\n",
      " and and a wouldn’t golden golden golden golden its its\n",
      "--------------------------------------------------\n",
      "Iteration 15\n",
      "Epoch 1/5\n",
      "9812/9812 [==============================] - 251s 26ms/step - loss: 2.2091\n",
      "Epoch 2/5\n",
      "9812/9812 [==============================] - 240s 24ms/step - loss: 2.1757\n",
      "Epoch 3/5\n",
      "9812/9812 [==============================] - 273s 28ms/step - loss: 2.1525\n",
      "Epoch 4/5\n",
      "9812/9812 [==============================] - 242s 25ms/step - loss: 2.1313\n",
      "Epoch 5/5\n",
      "9812/9812 [==============================] - 329s 34ms/step - loss: 2.0953\n",
      "----- Generating with seed: \" ['‘that’s', 'none', 'of', 'your', 'business,', 'two!’', 'said', 'seven.', '‘yes,', 'it', 'is', 'his', 'business!’', 'said', 'five,', '‘and', 'i’ll', 'tell', 'him--it', 'was', 'for', 'bringing', 'the', 'cook', 'tulip-roots', 'instead', 'of', 'onions.’', 'seven', 'flung'] \"\n",
      "\n",
      "‘that’s none of your business, two!’ said seven. ‘yes, it is his business!’ said five, ‘and i’ll tell him--it was for bringing the cook tulip-roots instead of onions.’ seven flung\n",
      " down down and and all all begun begun all all\n",
      "--------------------------------------------------\n",
      "Iteration 16\n",
      "Epoch 1/5\n",
      "9812/9812 [==============================] - 524s 53ms/step - loss: 2.0628\n",
      "Epoch 2/5\n",
      "9812/9812 [==============================] - 474s 48ms/step - loss: 2.0385\n",
      "Epoch 3/5\n",
      "9472/9812 [===========================>..] - ETA: 16s - loss: 2.0132"
     ]
    }
   ],
   "source": [
    "for iteration in range(20):\n",
    "    print()\n",
    "    print('-' * 50)\n",
    "    print('Iteration', iteration)\n",
    "    model.fit(x,y,epochs=5,batch_size=128)\n",
    "    \n",
    "    gen = \"\"\n",
    "    test_idx = np.random.randint(0,len(list_words)-maxlen)\n",
    "    test_char = list_words[test_idx:test_idx+maxlen]\n",
    "    gen +=' '.join(test_char)\n",
    "    print('----- Generating with seed: \"' , test_char , '\"')\n",
    "    print()\n",
    "    sys.stdout.write(gen)\n",
    "    print()\n",
    "    \n",
    "    \n",
    "    for j in range(10):\n",
    "        test_case = np.zeros((1,maxlen,len(words)))\n",
    "        \n",
    "        for t,word in enumerate(test_char):\n",
    "            test_case[0,t,word_indices[word]] = 1\n",
    "        \n",
    "        pred = model.predict(test_case,verbose=0)[0]\n",
    "        y_pred = indices_word[np.argmax(pred)]\n",
    "        gen += y_pred\n",
    "        del test_char[0]\n",
    "        test_char.append(y_pred)\n",
    "        sys.stdout.write(' ')\n",
    "        sys.stdout.write(y_pred)\n",
    "        sys.stdout.flush()\n",
    "        \n",
    "        "
   ]
  },
  {
   "cell_type": "code",
   "execution_count": null,
   "metadata": {
    "collapsed": true
   },
   "outputs": [],
   "source": []
  }
 ],
 "metadata": {
  "kernelspec": {
   "display_name": "Python 3",
   "language": "python",
   "name": "python3"
  },
  "language_info": {
   "codemirror_mode": {
    "name": "ipython",
    "version": 3
   },
   "file_extension": ".py",
   "mimetype": "text/x-python",
   "name": "python",
   "nbconvert_exporter": "python",
   "pygments_lexer": "ipython3",
   "version": "3.6.1"
  }
 },
 "nbformat": 4,
 "nbformat_minor": 2
}
