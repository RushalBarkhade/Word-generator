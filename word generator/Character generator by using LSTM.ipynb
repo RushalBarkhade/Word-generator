{
 "cells": [
  {
   "cell_type": "code",
   "execution_count": 2,
   "metadata": {},
   "outputs": [
    {
     "name": "stderr",
     "output_type": "stream",
     "text": [
      "Using TensorFlow backend.\n"
     ]
    }
   ],
   "source": [
    "import numpy as np\n",
    "import io\n",
    "from keras.models import Sequential\n",
    "from keras.layers import Dense\n",
    "from keras.models import load_model\n",
    "from keras.layers import Dropout,Activation\n",
    "from keras.layers import LSTM,SimpleRNN\n",
    "from keras.callbacks import ModelCheckpoint\n",
    "from keras.utils.data_utils import get_file\n",
    "from keras.utils import np_utils"
   ]
  },
  {
   "cell_type": "code",
   "execution_count": 3,
   "metadata": {},
   "outputs": [
    {
     "name": "stdout",
     "output_type": "stream",
     "text": [
      "corpus length: 159013\n"
     ]
    }
   ],
   "source": [
    "file = open(\"text file\\\\alice.txt\",'r')\n",
    "raw_text = []\n",
    "\n",
    "for line in file:\n",
    "    line = line.strip().lower()\n",
    "    if len(line) == 0:\n",
    "        continue\n",
    "    raw_text.append(line)\n",
    "file.close()\n",
    "raw_text = \"\".join(raw_text)\n",
    "#print(raw_text)\n",
    "print('corpus length:', len(raw_text))"
   ]
  },
  {
   "cell_type": "code",
   "execution_count": 4,
   "metadata": {},
   "outputs": [
    {
     "name": "stdout",
     "output_type": "stream",
     "text": [
      "Length of character  59\n"
     ]
    }
   ],
   "source": [
    "chars = sorted(set(c for c in raw_text))\n",
    "print(\"Length of character \",len(chars))\n",
    "char2index = dict((c,i) for i,c in enumerate(chars))\n",
    "index2char = dict((i,c) for i,c in enumerate(chars))"
   ]
  },
  {
   "cell_type": "code",
   "execution_count": 5,
   "metadata": {
    "collapsed": true
   },
   "outputs": [],
   "source": [
    "SEQLEN = 10\n",
    "STEP = 1\n",
    "\n",
    "input_chars = []\n",
    "output_chars = []\n",
    "\n",
    "for i in range(0,len(raw_text)-SEQLEN,STEP):\n",
    "    input_chars.append(raw_text[i:i+SEQLEN])\n",
    "    output_chars.append(raw_text[i+SEQLEN])"
   ]
  },
  {
   "cell_type": "code",
   "execution_count": 8,
   "metadata": {},
   "outputs": [
    {
     "name": "stdout",
     "output_type": "stream",
     "text": [
      "(159003, 10, 59) (159003, 59)\n"
     ]
    }
   ],
   "source": [
    "x = np.zeros((len(input_chars),SEQLEN,len(chars)),dtype=np.bool)\n",
    "y = np.zeros((len(input_chars),len(chars)),dtype=np.bool)\n",
    "print(x.shape,y.shape)\n",
    "for i,sentence in enumerate(input_chars):\n",
    "    for j ,ch in enumerate(sentence):\n",
    "        x[i,j,char2index[ch]] = 1\n",
    "        y[i,char2index[output_chars[i]]] = 1"
   ]
  },
  {
   "cell_type": "code",
   "execution_count": 9,
   "metadata": {},
   "outputs": [
    {
     "data": {
      "text/plain": [
       "((159003, 10, 59), (159003, 59))"
      ]
     },
     "execution_count": 9,
     "metadata": {},
     "output_type": "execute_result"
    }
   ],
   "source": [
    "x.shape,y.shape"
   ]
  },
  {
   "cell_type": "code",
   "execution_count": 6,
   "metadata": {
    "collapsed": true
   },
   "outputs": [],
   "source": [
    "HIDDEN_SIZE = 128\n",
    "BATCH_SIZE = 128\n",
    "NUM_ITERATIONS = 25\n",
    "NUM_EPOCHS_PER_ITERATION = 1 \n",
    "NUM_PREDS_PER_EPOCH = 100\n",
    "\n",
    "model = Sequential()\n",
    "model.add(LSTM(128,return_sequences=False,input_shape=(SEQLEN,len(chars)),unroll=True))\n",
    "model.add(Dense(len(chars)))\n",
    "model.add(Activation(\"softmax\"))"
   ]
  },
  {
   "cell_type": "code",
   "execution_count": 7,
   "metadata": {
    "collapsed": true
   },
   "outputs": [],
   "source": [
    "model.compile(loss=\"categorical_crossentropy\",optimizer=\"rmsprop\")"
   ]
  },
  {
   "cell_type": "code",
   "execution_count": 11,
   "metadata": {
    "scrolled": true
   },
   "outputs": [
    {
     "name": "stdout",
     "output_type": "stream",
     "text": [
      "==================================================\n",
      "Iteration #: 0\n",
      "Epoch 1/1\n",
      "159003/159003 [==============================] - 24s 148us/step - loss: 1.5161\n",
      "Generating from seed:  \n",
      " aaaaaaaaaaaaaaaaaaaaaaaaaaaaaaaaaaaaaaaaaaaaaaaaaaaaaaaaaaaaaaaaaaaaaaaaaaaaaaaaaaaaaaaaaaaaaaaaaaaa==================================================\n",
      "Iteration #: 1\n",
      "Epoch 1/1\n",
      "159003/159003 [==============================] - 24s 151us/step - loss: 1.5097\n",
      "Generating from seed: a\n",
      "aiiiiiiiiiiiiiiiiiiiiiiiiiiiiiiiiiiiiiiiiiiiiiiiiiiiiiiiiiiiiiiiiiiiiiiiiiiiiiiiiiiiiiiiiiiiiiiiiiiii==================================================\n",
      "Iteration #: 2\n",
      "Epoch 1/1\n",
      "159003/159003 [==============================] - 23s 147us/step - loss: 1.5052\n",
      "Generating from seed: a\n",
      "aiiiiiiiiiiiiiiiiiiiiiiiiiiiiiiiiiiiiiiiiiiiiiiiiiiiiiiiiiiiiiiiiiiiiiiiiiiiiiiiiiiiiiiiiiiiiiiiiiiii==================================================\n",
      "Iteration #: 3\n",
      "Epoch 1/1\n",
      "159003/159003 [==============================] - 21s 135us/step - loss: 1.4993\n",
      "Generating from seed: o\n",
      "oyyyyyyyyyyyyyyyyyyyyyyyyyyyyyyyyyyyyyyyyyyyyyyyyyyyyyyyyyyyyyyyyyyyyyyyyyyyyyyyyyyyyyyyyyyyyyyyyyyyy==================================================\n",
      "Iteration #: 4\n",
      "Epoch 1/1\n",
      "159003/159003 [==============================] - 22s 138us/step - loss: 1.4936\n",
      "Generating from seed: g\n",
      "giiiiiiiiiiiiiiiiiiiiiiiiiiiiiiiiiiiiiiiiiiiiiiiiiiiiiiiiiiiiiiiiiiiiiiiiiiiiiiiiiiiiiiiiiiiiiiiiiiii==================================================\n",
      "Iteration #: 5\n",
      "Epoch 1/1\n",
      "159003/159003 [==============================] - 21s 134us/step - loss: 1.4907\n",
      "Generating from seed: k\n",
      "kiiiiiiiiiiiiiiiiiiiiiiiiiiiiiiiiiiiiiiiiiiiiiiiiiiiiiiiiiiiiiiiiiiiiiiiiiiiiiiiiiiiiiiiiiiiiiiiiiiii==================================================\n",
      "Iteration #: 6\n",
      "Epoch 1/1\n",
      "159003/159003 [==============================] - 23s 145us/step - loss: 1.4853\n",
      "Generating from seed: r\n",
      "rwwwwwwwwwwwwwwwwwwwwwwwwwwwwwwwwwwwwwwwwwwwwwwwwwwwwwwwwwwwwwwwwwwwwwwwwwwwwwwwwwwwwwwwwwwwwwwwwwwww==================================================\n",
      "Iteration #: 7\n",
      "Epoch 1/1\n",
      "159003/159003 [==============================] - 21s 131us/step - loss: 1.4807\n",
      "Generating from seed: t\n",
      "tbbbbbbbbbbbbbbbbbbbbbbbbbbbbbbbbbbbbbbbbbbbbbbbbbbbbbbbbbbbbbbbbbbbbbbbbbbbbbbbbbbbbbbbbbbbbbbbbbbbb==================================================\n",
      "Iteration #: 8\n",
      "Epoch 1/1\n",
      "159003/159003 [==============================] - 23s 142us/step - loss: 1.4772\n",
      "Generating from seed: o\n",
      "oyyyyyyyyyyyyyyyyyyyyyyyyyyyyyyyyyyyyyyyyyyyyyyyyyyyyyyyyyyyyyyyyyyyyyyyyyyyyyyyyyyyyyyyyyyyyyyyyyyyy==================================================\n",
      "Iteration #: 9\n",
      "Epoch 1/1\n",
      "159003/159003 [==============================] - 21s 135us/step - loss: 1.4729\n",
      "Generating from seed:  \n",
      " uuuuuuuuuuuuuuuuuuuuuuuuuuuuuuuuuuuuuuuuuuuuuuuuuuuuuuuuuuuuuuuuuuuuuuuuuuuuuuuuuuuuuuuuuuuuuuuuuuuu==================================================\n",
      "Iteration #: 10\n",
      "Epoch 1/1\n",
      "159003/159003 [==============================] - 23s 142us/step - loss: 1.4692\n",
      "Generating from seed: m\n",
      "mrrrrrrrrrrrrrrrrrrrrrrrrrrrrrrrrrrrrrrrrrrrrrrrrrrrrrrrrrrrrrrrrrrrrrrrrrrrrrrrrrrrrrrrrrrrrrrrrrrrr==================================================\n",
      "Iteration #: 11\n",
      "Epoch 1/1\n",
      "159003/159003 [==============================] - 23s 142us/step - loss: 1.4665\n",
      "Generating from seed: d\n",
      "d::::::::::::::::::::::::::::::::::::::::::::::::::::::::::::::::::::::::::::::::::::::::::::::::::::==================================================\n",
      "Iteration #: 12\n",
      "Epoch 1/1\n",
      "159003/159003 [==============================] - 21s 134us/step - loss: 1.4624\n",
      "Generating from seed:  \n",
      " aaaaaaaaaaaaaaaaaaaaaaaaaaaaaaaaaaaaaaaaaaaaaaaaaaaaaaaaaaaaaaaaaaaaaaaaaaaaaaaaaaaaaaaaaaaaaaaaaaaa==================================================\n",
      "Iteration #: 13\n",
      "Epoch 1/1\n",
      "159003/159003 [==============================] - 24s 153us/step - loss: 1.4600\n",
      "Generating from seed: t\n",
      "tkkkkkkkkkkkkkkkkkkkkkkkkkkkkkkkkkkkkkkkkkkkkkkkkkkkkkkkkkkkkkkkkkkkkkkkkkkkkkkkkkkkkkkkkkkkkkkkkkkkk==================================================\n",
      "Iteration #: 14\n",
      "Epoch 1/1\n",
      "159003/159003 [==============================] - 24s 153us/step - loss: 1.4563\n",
      "Generating from seed: o\n",
      "oyyyyyyyyyyyyyyyyyyyyyyyyyyyyyyyyyyyyyyyyyyyyyyyyyyyyyyyyyyyyyyyyyyyyyyyyyyyyyyyyyyyyyyyyyyyyyyyyyyyy==================================================\n",
      "Iteration #: 15\n",
      "Epoch 1/1\n",
      "159003/159003 [==============================] - 24s 153us/step - loss: 1.4538\n",
      "Generating from seed:  \n",
      " oooooooooooooooooooooooooooooooooooooooooooooooooooooooooooooooooooooooooooooooooooooooooooooooooooo==================================================\n",
      "Iteration #: 16\n",
      "Epoch 1/1\n",
      "159003/159003 [==============================] - 23s 144us/step - loss: 1.4515\n",
      "Generating from seed: s\n",
      "syyyyyyyyyyyyyyyyyyyyyyyyyyyyyyyyyyyyyyyyyyyyyyyyyyyyyyyyyyyyyyyyyyyyyyyyyyyyyyyyyyyyyyyyyyyyyyyyyyyy==================================================\n",
      "Iteration #: 17\n",
      "Epoch 1/1\n",
      "159003/159003 [==============================] - 22s 136us/step - loss: 1.4485\n",
      "Generating from seed: a\n",
      "aeeeeeeeeeeeeeeeeeeeeeeeeeeeeeeeeeeeeeeeeeeeeeeeeeeeeeeeeeeeeeeeeeeeeeeeeeeeeeeeeeeeeeeeeeeeeeeeeeeee==================================================\n",
      "Iteration #: 18\n",
      "Epoch 1/1\n",
      "159003/159003 [==============================] - 22s 138us/step - loss: 1.4457\n",
      "Generating from seed: e\n",
      "eyyyyyyyyyyyyyyyyyyyyyyyyyyyyyyyyyyyyyyyyyyyyyyyyyyyyyyyyyyyyyyyyyyyyyyyyyyyyyyyyyyyyyyyyyyyyyyyyyyyy==================================================\n",
      "Iteration #: 19\n",
      "Epoch 1/1\n",
      "159003/159003 [==============================] - 23s 143us/step - loss: 1.4438\n",
      "Generating from seed: h\n",
      "huuuuuuuuuuuuuuuuuuuuuuuuuuuuuuuuuuuuuuuuuuuuuuuuuuuuuuuuuuuuuuuuuuuuuuuuuuuuuuuuuuuuuuuuuuuuuuuuuuuu==================================================\n",
      "Iteration #: 20\n",
      "Epoch 1/1\n",
      "159003/159003 [==============================] - 22s 138us/step - loss: 1.4416\n",
      "Generating from seed: n\n",
      "neeeeeeeeeeeeeeeeeeeeeeeeeeeeeeeeeeeeeeeeeeeeeeeeeeeeeeeeeeeeeeeeeeeeeeeeeeeeeeeeeeeeeeeeeeeeeeeeeeee==================================================\n",
      "Iteration #: 21\n",
      "Epoch 1/1\n",
      "159003/159003 [==============================] - 23s 144us/step - loss: 1.4383\n",
      "Generating from seed: n\n",
      "noooooooooooooooooooooooooooooooooooooooooooooooooooooooooooooooooooooooooooooooooooooooooooooooooooo==================================================\n",
      "Iteration #: 22\n",
      "Epoch 1/1\n",
      "159003/159003 [==============================] - 22s 136us/step - loss: 1.4365\n",
      "Generating from seed:  \n",
      " yyyyyyyyyyyyyyyyyyyyyyyyyyyyyyyyyyyyyyyyyyyyyyyyyyyyyyyyyyyyyyyyyyyyyyyyyyyyyyyyyyyyyyyyyyyyyyyyyyyy==================================================\n",
      "Iteration #: 23\n",
      "Epoch 1/1\n",
      "159003/159003 [==============================] - 22s 141us/step - loss: 1.4344\n",
      "Generating from seed: t\n",
      "teeeeeeeeeeeeeeeeeeeeeeeeeeeeeeeeeeeeeeeeeeeeeeeeeeeeeeeeeeeeeeeeeeeeeeeeeeeeeeeeeeeeeeeeeeeeeeeeeeee==================================================\n",
      "Iteration #: 24\n",
      "Epoch 1/1\n",
      "159003/159003 [==============================] - 22s 138us/step - loss: 1.4323\n",
      "Generating from seed: o\n",
      "oyyyyyyyyyyyyyyyyyyyyyyyyyyyyyyyyyyyyyyyyyyyyyyyyyyyyyyyyyyyyyyyyyyyyyyyyyyyyyyyyyyyyyyyyyyyyyyyyyyyy\n"
     ]
    }
   ],
   "source": [
    "for iteration in range(NUM_ITERATIONS):\n",
    "    print(\"=\" * 50)   \n",
    "    print(\"Iteration #: %d\" % (iteration)) \n",
    "    model.fit(x,y,epochs=NUM_EPOCHS_PER_ITERATION,batch_size=BATCH_SIZE)\n",
    "    \n",
    "    test_idx = np.random.randint(len(input_chars))\n",
    "    text_chars = raw_text[test_idx]\n",
    "    print(\"Generating from seed: %s\" % (text_chars)) \n",
    "    print(text_chars, end=\"\") \n",
    "    \n",
    "    for i in range(NUM_PREDS_PER_EPOCH):\n",
    "        Xtest = np.zeros((1,SEQLEN,len(chars)))\n",
    "        \n",
    "        for j ,ch in enumerate(text_chars):\n",
    "            Xtest[0,j,char2index[ch]] = 1\n",
    "      \n",
    "        pred = model.predict(Xtest,verbose=0)[0]\n",
    "        ypred = index2char[np.argmax(pred)]\n",
    "        print(ypred,end=\"\")\n",
    "    text_chars = text_chars[1:] + ypred\n",
    "print()"
   ]
  },
  {
   "cell_type": "code",
   "execution_count": null,
   "metadata": {
    "collapsed": true
   },
   "outputs": [],
   "source": []
  },
  {
   "cell_type": "code",
   "execution_count": null,
   "metadata": {
    "collapsed": true
   },
   "outputs": [],
   "source": []
  },
  {
   "cell_type": "code",
   "execution_count": null,
   "metadata": {
    "collapsed": true
   },
   "outputs": [],
   "source": []
  }
 ],
 "metadata": {
  "kernelspec": {
   "display_name": "Python 3",
   "language": "python",
   "name": "python3"
  },
  "language_info": {
   "codemirror_mode": {
    "name": "ipython",
    "version": 3
   },
   "file_extension": ".py",
   "mimetype": "text/x-python",
   "name": "python",
   "nbconvert_exporter": "python",
   "pygments_lexer": "ipython3",
   "version": "3.6.1"
  }
 },
 "nbformat": 4,
 "nbformat_minor": 2
}
