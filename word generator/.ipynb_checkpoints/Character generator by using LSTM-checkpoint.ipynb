{
 "cells": [
  {
   "cell_type": "code",
   "execution_count": 12,
   "metadata": {},
   "outputs": [],
   "source": [
    "import numpy as np\n",
    "import io\n",
    "from keras.models import Sequential\n",
    "from keras.layers import Dense\n",
    "from keras.models import load_model\n",
    "from keras.layers import Dropout,Activation\n",
    "from keras.layers import LSTM,SimpleRNN\n",
    "from keras.callbacks import ModelCheckpoint\n",
    "from keras.utils.data_utils import get_file\n",
    "from keras.utils import np_utils"
   ]
  },
  {
   "cell_type": "code",
   "execution_count": null,
   "metadata": {},
   "outputs": [],
   "source": [
    "file = open(\"text file\\\\alice.txt\",'r')\n",
    "raw_text = []\n",
    "\n",
    "for line in file:\n",
    "    line = line.strip().lower()\n",
    "    if len(line) == 0:\n",
    "        continue\n",
    "    raw_text.append(line)\n",
    "file.close()\n",
    "raw_text = \"\".join(raw_text)\n",
    "print(raw_text)\n",
    "print('corpus length:', len(raw_text))"
   ]
  },
  {
   "cell_type": "code",
   "execution_count": 6,
   "metadata": {},
   "outputs": [
    {
     "name": "stdout",
     "output_type": "stream",
     "text": [
      "Length of character  59\n"
     ]
    }
   ],
   "source": [
    "chars = sorted(set(c for c in raw_text))\n",
    "print(\"Length of character \",len(chars))\n",
    "char2index = dict((c,i) for i,c in enumerate(chars))\n",
    "index2char = dict((i,c) for i,c in enumerate(chars))"
   ]
  },
  {
   "cell_type": "code",
   "execution_count": 7,
   "metadata": {},
   "outputs": [],
   "source": [
    "SEQLEN = 10\n",
    "STEP = 1\n",
    "\n",
    "input_chars = []\n",
    "output_chars = []\n",
    "\n",
    "for i in range(0,len(raw_text)-SEQLEN,STEP):\n",
    "    input_chars.append(raw_text[i:i+SEQLEN])\n",
    "    output_chars.append(raw_text[i+SEQLEN])"
   ]
  },
  {
   "cell_type": "code",
   "execution_count": 8,
   "metadata": {},
   "outputs": [],
   "source": [
    "x = np.zeros((len(input_chars),SEQLEN,len(chars)),dtype=np.bool)\n",
    "y = np.zeros((len(input_chars),len(chars)),dtype=np.bool)\n",
    "\n",
    "for i,sentence in enumerate(input_chars):\n",
    "    for j ,ch in enumerate(sentence):\n",
    "        x[i,j,char2index[ch]] = 1\n",
    "        y[i,char2index[output_chars[i]]] = 1"
   ]
  },
  {
   "cell_type": "code",
   "execution_count": 13,
   "metadata": {},
   "outputs": [],
   "source": [
    "HIDDEN_SIZE = 128\n",
    "BATCH_SIZE = 128\n",
    "NUM_ITERATIONS = 25\n",
    "NUM_EPOCHS_PER_ITERATION = 1 \n",
    "NUM_PREDS_PER_EPOCH = 100\n",
    "\n",
    "model = Sequential()\n",
    "model.add(SimpleRNN(128,input_shape=(SEQLEN,len(chars))))\n",
    "model.add(Dense(len(chars)))\n",
    "model.add(Activation(\"softmax\"))"
   ]
  },
  {
   "cell_type": "code",
   "execution_count": 14,
   "metadata": {},
   "outputs": [],
   "source": [
    "model.compile(loss=\"categorical_crossentropy\",optimizer=\"rmsprop\")"
   ]
  },
  {
   "cell_type": "code",
   "execution_count": null,
   "metadata": {
    "scrolled": true
   },
   "outputs": [
    {
     "name": "stdout",
     "output_type": "stream",
     "text": [
      "==================================================\n",
      "Iteration #: 0\n",
      "Epoch 1/1\n",
      "159003/159003 [==============================] - 26s 163us/step - loss: 1.4660\n",
      "Generating from seed: u wouldn’t\n",
      "                                                                                                    ==================================================\n",
      "Iteration #: 1\n",
      "Epoch 1/1\n",
      "159003/159003 [==============================] - 26s 162us/step - loss: 1.4611\n",
      "Generating from seed: suppose it\n",
      "                                                                                                    ==================================================\n",
      "Iteration #: 2\n",
      "Epoch 1/1\n",
      "159003/159003 [==============================] - 26s 164us/step - loss: 1.4554\n",
      "Generating from seed:  forth in \n",
      "tttttttttttttttttttttttttttttttttttttttttttttttttttttttttttttttttttttttttttttttttttttttttttttttttttt==================================================\n",
      "Iteration #: 3\n",
      "Epoch 1/1\n",
      "159003/159003 [==============================] - 28s 175us/step - loss: 1.4506\n",
      "Generating from seed: ‘a cat may\n",
      "                                                                                                    ==================================================\n",
      "Iteration #: 4\n",
      "Epoch 1/1\n",
      "159003/159003 [==============================] - 28s 177us/step - loss: 1.44592s - - ETA: 0s - loss: 1.4\n",
      "Generating from seed: why, there\n",
      "                                                                                                    ==================================================\n",
      "Iteration #: 5\n",
      "Epoch 1/1\n",
      "159003/159003 [==============================] - 27s 171us/step - loss: 1.4416\n",
      "Generating from seed:  those of \n",
      "tttttttttttttttttttttttttttttttttttttttttttttttttttttttttttttttttttttttttttttttttttttttttttttttttttt==================================================\n",
      "Iteration #: 6\n",
      "Epoch 1/1\n",
      "159003/159003 [==============================] - 27s 170us/step - loss: 1.4391\n",
      "Generating from seed: when youha\n",
      "ssssssssssssssssssssssssssssssssssssssssssssssssssssssssssssssssssssssssssssssssssssssssssssssssssss==================================================\n",
      "Iteration #: 7\n",
      "Epoch 1/1\n",
      "159003/159003 [==============================] - 27s 168us/step - loss: 1.4349\n",
      "Generating from seed: wine,’ the\n",
      "                                                                                                    ==================================================\n",
      "Iteration #: 8\n",
      "Epoch 1/1\n",
      "159003/159003 [==============================] - 26s 166us/step - loss: 1.4302\n",
      "Generating from seed: ith the la\n",
      "rrrrrrrrrrrrrrrrrrrrrrrrrrrrrrrrrrrrrrrrrrrrrrrrrrrrrrrrrrrrrrrrrrrrrrrrrrrrrrrrrrrrrrrrrrrrrrrrrrrr==================================================\n",
      "Iteration #: 9\n",
      "Epoch 1/1\n",
      "159003/159003 [==============================] - 26s 165us/step - loss: 1.4273\n",
      "Generating from seed: day.‘a lik\n",
      "eeeeeeeeeeeeeeeeeeeeeeeeeeeeeeeeeeeeeeeeeeeeeeeeeeeeeeeeeeeeeeeeeeeeeeeeeeeeeeeeeeeeeeeeeeeeeeeeeeee==================================================\n",
      "Iteration #: 10\n",
      "Epoch 1/1\n",
      "159003/159003 [==============================] - 26s 163us/step - loss: 1.4231\n",
      "Generating from seed: rg.section\n",
      "                                                                                                    ==================================================\n",
      "Iteration #: 11\n",
      "Epoch 1/1\n",
      "159003/159003 [==============================] - 26s 166us/step - loss: 1.4201\n",
      "Generating from seed: the poor l\n",
      "iiiiiiiiiiiiiiiiiiiiiiiiiiiiiiiiiiiiiiiiiiiiiiiiiiiiiiiiiiiiiiiiiiiiiiiiiiiiiiiiiiiiiiiiiiiiiiiiiiii==================================================\n",
      "Iteration #: 12\n",
      "Epoch 1/1\n",
      "159003/159003 [==============================] - 26s 165us/step - loss: 1.4171\n",
      "Generating from seed: eally offe\n",
      "rrrrrrrrrrrrrrrrrrrrrrrrrrrrrrrrrrrrrrrrrrrrrrrrrrrrrrrrrrrrrrrrrrrrrrrrrrrrrrrrrrrrrrrrrrrrrrrrrrrr==================================================\n",
      "Iteration #: 13\n",
      "Epoch 1/1\n",
      "159003/159003 [==============================] - 25s 158us/step - loss: 1.4146\n",
      "Generating from seed: r honour!’\n",
      "                                                                                                    ==================================================\n",
      "Iteration #: 14\n",
      "Epoch 1/1\n",
      "159003/159003 [==============================] - 26s 161us/step - loss: 1.4114\n",
      "Generating from seed: felt sodes\n",
      "iiiiiiiiiiiiiiiiiiiiiiiiiiiiiiiiiiiiiiiiiiiiiiiiiiiiiiiiiiiiiiiiiiiiiiiiiiiiiiiiiiiiiiiiiiiiiiiiiiii==================================================\n",
      "Iteration #: 15\n",
      "Epoch 1/1\n",
      "159003/159003 [==============================] - 25s 160us/step - loss: 1.4085\n",
      "Generating from seed: ements of \n",
      "tttttttttttttttttttttttttttttttttttttttttttttttttttttttttttttttttttttttttttttttttttttttttttttttttttt==================================================\n",
      "Iteration #: 16\n",
      "Epoch 1/1\n",
      "159003/159003 [==============================] - 26s 164us/step - loss: 1.4050\n",
      "Generating from seed:  thought a\n",
      "llllllllllllllllllllllllllllllllllllllllllllllllllllllllllllllllllllllllllllllllllllllllllllllllllll==================================================\n",
      "Iteration #: 17\n",
      "Epoch 1/1\n",
      "159003/159003 [==============================] - 26s 160us/step - loss: 1.4035\n",
      "Generating from seed: r of glove\n",
      "ssssssssssssssssssssssssssssssssssssssssssssssssssssssssssssssssssssssssssssssssssssssssssssssssssss==================================================\n",
      "Iteration #: 18\n",
      "Epoch 1/1\n",
      "159003/159003 [==============================] - 26s 160us/step - loss: 1.3999\n",
      "Generating from seed: ertainly t\n",
      "hhhhhhhhhhhhhhhhhhhhhhhhhhhhhhhhhhhhhhhhhhhhhhhhhhhhhhhhhhhhhhhhhhhhhhhhhhhhhhhhhhhhhhhhhhhhhhhhhhhh==================================================\n",
      "Iteration #: 19\n",
      "Epoch 1/1\n",
      "159003/159003 [==============================] - 25s 160us/step - loss: 1.3981\n",
      "Generating from seed: ds on her \n",
      "hhhhhhhhhhhhhhhhhhhhhhhhhhhhhhhhhhhhhhhhhhhhhhhhhhhhhhhhhhhhhhhhhhhhhhhhhhhhhhhhhhhhhhhhhhhhhhhhhhhh==================================================\n",
      "Iteration #: 20\n",
      "Epoch 1/1\n",
      "159003/159003 [==============================] - 26s 161us/step - loss: 1.3950\n",
      "Generating from seed: e, and fig\n",
      "hhhhhhhhhhhhhhhhhhhhhhhhhhhhhhhhhhhhhhhhhhhhhhhhhhhhhhhhhhhhhhhhhhhhhhhhhhhhhhhhhhhhhhhhhhhhhhhhhhhh==================================================\n",
      "Iteration #: 21\n",
      "Epoch 1/1\n",
      "126336/159003 [======================>.......] - ETA: 5s - loss: 1.3889"
     ]
    }
   ],
   "source": [
    "for iteration in range(NUM_ITERATIONS):\n",
    "    print(\"=\" * 50)   \n",
    "    print(\"Iteration #: %d\" % (iteration)) \n",
    "    model.fit(x,y,epochs=NUM_EPOCHS_PER_ITERATION,batch_size=BATCH_SIZE)\n",
    "    \n",
    "    test_idx = np.random.randint(len(input_chars))\n",
    "    text_chars = input_chars[test_idx]\n",
    "    print(\"Generating from seed: %s\" % (text_chars)) \n",
    "    print(text_chars, end=\"\") \n",
    "    \n",
    "    for i in range(NUM_PREDS_PER_EPOCH):\n",
    "        Xtest = np.zeros((1,SEQLEN,len(chars)))\n",
    "        \n",
    "        for j ,ch in enumerate(text_chars):\n",
    "            Xtest[0,j,char2index[ch]] = 1\n",
    "      \n",
    "        pred = model.predict(Xtest,verbose=0)[0]\n",
    "        ypred = index2char[np.argmax(pred)]\n",
    "        print(ypred,end=\"\")\n",
    "    text_chars = text_chars[1:]+ypred\n",
    "print()"
   ]
  },
  {
   "cell_type": "code",
   "execution_count": null,
   "metadata": {
    "collapsed": true
   },
   "outputs": [],
   "source": [
    "text = 'hi rushal'\n",
    "\n",
    "for i,ch in enumerate(text):\n",
    "    test = [0,i,char2index[ch]] = 1\n",
    "pred = model.predict(test,verbose=0)\n",
    "y_pred = index2char(np.argmax(pred))\n",
    "print(y_pred)\n"
   ]
  },
  {
   "cell_type": "code",
   "execution_count": null,
   "metadata": {
    "collapsed": true
   },
   "outputs": [],
   "source": []
  }
 ],
 "metadata": {
  "kernelspec": {
   "display_name": "Python 3",
   "language": "python",
   "name": "python3"
  },
  "language_info": {
   "codemirror_mode": {
    "name": "ipython",
    "version": 3
   },
   "file_extension": ".py",
   "mimetype": "text/x-python",
   "name": "python",
   "nbconvert_exporter": "python",
   "pygments_lexer": "ipython3",
   "version": "3.6.1"
  }
 },
 "nbformat": 4,
 "nbformat_minor": 2
}
